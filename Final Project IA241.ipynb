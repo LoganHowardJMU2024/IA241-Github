{
 "cells": [
  {
   "cell_type": "markdown",
   "id": "a710d2db",
   "metadata": {},
   "source": [
    "# COVID-19 Data in Iceland"
   ]
  },
  {
   "cell_type": "markdown",
   "id": "b2ebb333",
   "metadata": {},
   "source": [
    "## Introduction and COVID-19 Background"
   ]
  },
  {
   "cell_type": "markdown",
   "id": "e7d39ae8",
   "metadata": {},
   "source": [
    "The COVID-19 Pandemic is caused by a cornoavirus named SARS-CoV-2.COVID-19 causes respiratory diseases in humans, from the common cold to more severe diseases such as Severe Acute Respiratory Syndrome (SARS) and the Middle East Respiratory Syndrome (MERS), both having high mortality rates. As of May 8th, 2022 513,955,910 cases have been documented globally.\n",
    "\n",
    "COVID-19 has impacted the world, causing economic shutdowns, lockdowns, unemployment, and education systems to go completetly virtual or being shut down. Although the world felt the impacts of COVID-19, many countries have experienced different numbers of cases and deaths.\n",
    "\n",
    "Source:World Health Organization (WHO)"
   ]
  },
  {
   "cell_type": "markdown",
   "id": "e5aceb63",
   "metadata": {},
   "source": [
    "## Data Source"
   ]
  },
  {
   "cell_type": "markdown",
   "id": "a6cbfc9a",
   "metadata": {},
   "source": [
    "The Data is from [European Centre for Disease Prevention and Control](https://www.ecdc.europa.eu/en/publications-data/download-todays-data-geographic-distribution-covid-19-cases-worldwide)"
   ]
  },
  {
   "cell_type": "code",
   "execution_count": 1,
   "id": "100b64ec",
   "metadata": {},
   "outputs": [],
   "source": [
    "%matplotlib inline\n",
    "import pandas"
   ]
  },
  {
   "cell_type": "markdown",
   "id": "376054e4",
   "metadata": {},
   "source": [
    "## A Brief overlook of the Data\n"
   ]
  },
  {
   "cell_type": "markdown",
   "id": "b030c19c",
   "metadata": {},
   "source": [
    "This is a brief overlook into the data collected by the European Centre for Disease Prevention and Control of COVID-19 data from countries globally."
   ]
  },
  {
   "cell_type": "code",
   "execution_count": 2,
   "id": "8af6187c",
   "metadata": {},
   "outputs": [
    {
     "data": {
      "text/html": [
       "<div>\n",
       "<style scoped>\n",
       "    .dataframe tbody tr th:only-of-type {\n",
       "        vertical-align: middle;\n",
       "    }\n",
       "\n",
       "    .dataframe tbody tr th {\n",
       "        vertical-align: top;\n",
       "    }\n",
       "\n",
       "    .dataframe thead th {\n",
       "        text-align: right;\n",
       "    }\n",
       "</style>\n",
       "<table border=\"1\" class=\"dataframe\">\n",
       "  <thead>\n",
       "    <tr style=\"text-align: right;\">\n",
       "      <th></th>\n",
       "      <th>dateRep</th>\n",
       "      <th>day</th>\n",
       "      <th>month</th>\n",
       "      <th>year</th>\n",
       "      <th>cases</th>\n",
       "      <th>deaths</th>\n",
       "      <th>countriesAndTerritories</th>\n",
       "      <th>geoId</th>\n",
       "      <th>countryterritoryCode</th>\n",
       "      <th>popData2019</th>\n",
       "      <th>continentExp</th>\n",
       "      <th>Cumulative_number_for_14_days_of_COVID-19_cases_per_100000</th>\n",
       "    </tr>\n",
       "  </thead>\n",
       "  <tbody>\n",
       "    <tr>\n",
       "      <th>0</th>\n",
       "      <td>14/12/2020</td>\n",
       "      <td>14</td>\n",
       "      <td>12</td>\n",
       "      <td>2020</td>\n",
       "      <td>746</td>\n",
       "      <td>6</td>\n",
       "      <td>Afghanistan</td>\n",
       "      <td>AF</td>\n",
       "      <td>AFG</td>\n",
       "      <td>38041757.0</td>\n",
       "      <td>Asia</td>\n",
       "      <td>9.013779</td>\n",
       "    </tr>\n",
       "    <tr>\n",
       "      <th>1</th>\n",
       "      <td>13/12/2020</td>\n",
       "      <td>13</td>\n",
       "      <td>12</td>\n",
       "      <td>2020</td>\n",
       "      <td>298</td>\n",
       "      <td>9</td>\n",
       "      <td>Afghanistan</td>\n",
       "      <td>AF</td>\n",
       "      <td>AFG</td>\n",
       "      <td>38041757.0</td>\n",
       "      <td>Asia</td>\n",
       "      <td>7.052776</td>\n",
       "    </tr>\n",
       "    <tr>\n",
       "      <th>2</th>\n",
       "      <td>2020-12-12 00:00:00</td>\n",
       "      <td>12</td>\n",
       "      <td>12</td>\n",
       "      <td>2020</td>\n",
       "      <td>113</td>\n",
       "      <td>11</td>\n",
       "      <td>Afghanistan</td>\n",
       "      <td>AF</td>\n",
       "      <td>AFG</td>\n",
       "      <td>38041757.0</td>\n",
       "      <td>Asia</td>\n",
       "      <td>6.868768</td>\n",
       "    </tr>\n",
       "    <tr>\n",
       "      <th>3</th>\n",
       "      <td>2020-11-12 00:00:00</td>\n",
       "      <td>11</td>\n",
       "      <td>12</td>\n",
       "      <td>2020</td>\n",
       "      <td>63</td>\n",
       "      <td>10</td>\n",
       "      <td>Afghanistan</td>\n",
       "      <td>AF</td>\n",
       "      <td>AFG</td>\n",
       "      <td>38041757.0</td>\n",
       "      <td>Asia</td>\n",
       "      <td>7.134266</td>\n",
       "    </tr>\n",
       "    <tr>\n",
       "      <th>4</th>\n",
       "      <td>2020-10-12 00:00:00</td>\n",
       "      <td>10</td>\n",
       "      <td>12</td>\n",
       "      <td>2020</td>\n",
       "      <td>202</td>\n",
       "      <td>16</td>\n",
       "      <td>Afghanistan</td>\n",
       "      <td>AF</td>\n",
       "      <td>AFG</td>\n",
       "      <td>38041757.0</td>\n",
       "      <td>Asia</td>\n",
       "      <td>6.968658</td>\n",
       "    </tr>\n",
       "    <tr>\n",
       "      <th>5</th>\n",
       "      <td>2020-09-12 00:00:00</td>\n",
       "      <td>9</td>\n",
       "      <td>12</td>\n",
       "      <td>2020</td>\n",
       "      <td>135</td>\n",
       "      <td>13</td>\n",
       "      <td>Afghanistan</td>\n",
       "      <td>AF</td>\n",
       "      <td>AFG</td>\n",
       "      <td>38041757.0</td>\n",
       "      <td>Asia</td>\n",
       "      <td>6.963401</td>\n",
       "    </tr>\n",
       "    <tr>\n",
       "      <th>6</th>\n",
       "      <td>2020-08-12 00:00:00</td>\n",
       "      <td>8</td>\n",
       "      <td>12</td>\n",
       "      <td>2020</td>\n",
       "      <td>200</td>\n",
       "      <td>6</td>\n",
       "      <td>Afghanistan</td>\n",
       "      <td>AF</td>\n",
       "      <td>AFG</td>\n",
       "      <td>38041757.0</td>\n",
       "      <td>Asia</td>\n",
       "      <td>7.094835</td>\n",
       "    </tr>\n",
       "    <tr>\n",
       "      <th>7</th>\n",
       "      <td>2020-07-12 00:00:00</td>\n",
       "      <td>7</td>\n",
       "      <td>12</td>\n",
       "      <td>2020</td>\n",
       "      <td>210</td>\n",
       "      <td>26</td>\n",
       "      <td>Afghanistan</td>\n",
       "      <td>AF</td>\n",
       "      <td>AFG</td>\n",
       "      <td>38041757.0</td>\n",
       "      <td>Asia</td>\n",
       "      <td>7.215755</td>\n",
       "    </tr>\n",
       "    <tr>\n",
       "      <th>8</th>\n",
       "      <td>2020-06-12 00:00:00</td>\n",
       "      <td>6</td>\n",
       "      <td>12</td>\n",
       "      <td>2020</td>\n",
       "      <td>234</td>\n",
       "      <td>10</td>\n",
       "      <td>Afghanistan</td>\n",
       "      <td>AF</td>\n",
       "      <td>AFG</td>\n",
       "      <td>38041757.0</td>\n",
       "      <td>Asia</td>\n",
       "      <td>7.326160</td>\n",
       "    </tr>\n",
       "    <tr>\n",
       "      <th>9</th>\n",
       "      <td>2020-05-12 00:00:00</td>\n",
       "      <td>5</td>\n",
       "      <td>12</td>\n",
       "      <td>2020</td>\n",
       "      <td>235</td>\n",
       "      <td>18</td>\n",
       "      <td>Afghanistan</td>\n",
       "      <td>AF</td>\n",
       "      <td>AFG</td>\n",
       "      <td>38041757.0</td>\n",
       "      <td>Asia</td>\n",
       "      <td>7.115865</td>\n",
       "    </tr>\n",
       "  </tbody>\n",
       "</table>\n",
       "</div>"
      ],
      "text/plain": [
       "               dateRep  day  month  year  cases  deaths  \\\n",
       "0           14/12/2020   14     12  2020    746       6   \n",
       "1           13/12/2020   13     12  2020    298       9   \n",
       "2  2020-12-12 00:00:00   12     12  2020    113      11   \n",
       "3  2020-11-12 00:00:00   11     12  2020     63      10   \n",
       "4  2020-10-12 00:00:00   10     12  2020    202      16   \n",
       "5  2020-09-12 00:00:00    9     12  2020    135      13   \n",
       "6  2020-08-12 00:00:00    8     12  2020    200       6   \n",
       "7  2020-07-12 00:00:00    7     12  2020    210      26   \n",
       "8  2020-06-12 00:00:00    6     12  2020    234      10   \n",
       "9  2020-05-12 00:00:00    5     12  2020    235      18   \n",
       "\n",
       "  countriesAndTerritories geoId countryterritoryCode  popData2019  \\\n",
       "0             Afghanistan    AF                  AFG   38041757.0   \n",
       "1             Afghanistan    AF                  AFG   38041757.0   \n",
       "2             Afghanistan    AF                  AFG   38041757.0   \n",
       "3             Afghanistan    AF                  AFG   38041757.0   \n",
       "4             Afghanistan    AF                  AFG   38041757.0   \n",
       "5             Afghanistan    AF                  AFG   38041757.0   \n",
       "6             Afghanistan    AF                  AFG   38041757.0   \n",
       "7             Afghanistan    AF                  AFG   38041757.0   \n",
       "8             Afghanistan    AF                  AFG   38041757.0   \n",
       "9             Afghanistan    AF                  AFG   38041757.0   \n",
       "\n",
       "  continentExp  Cumulative_number_for_14_days_of_COVID-19_cases_per_100000  \n",
       "0         Asia                                           9.013779           \n",
       "1         Asia                                           7.052776           \n",
       "2         Asia                                           6.868768           \n",
       "3         Asia                                           7.134266           \n",
       "4         Asia                                           6.968658           \n",
       "5         Asia                                           6.963401           \n",
       "6         Asia                                           7.094835           \n",
       "7         Asia                                           7.215755           \n",
       "8         Asia                                           7.326160           \n",
       "9         Asia                                           7.115865           "
      ]
     },
     "execution_count": 2,
     "metadata": {},
     "output_type": "execute_result"
    }
   ],
   "source": [
    "df= pandas.read_excel('s3://ia241-1-spring2022-lhoward/covid_data.xls')\n",
    "df[:10] #the top 10 rows"
   ]
  },
  {
   "cell_type": "markdown",
   "id": "5e31c3b3",
   "metadata": {},
   "source": [
    "The European Centre for Disease Prevention and Control has placed a priortiy on certain aspects of the COVID-19 Pandemic within countries and territories. Some of these aspects are: cases, deaths, day, month, and year.\n"
   ]
  },
  {
   "cell_type": "markdown",
   "id": "081b10dc",
   "metadata": {},
   "source": [
    "## Iceland's COVID-19 Data"
   ]
  },
  {
   "cell_type": "markdown",
   "id": "e8ea04bf",
   "metadata": {},
   "source": [
    "This data will be displayed by specifying the command to pull data only from Iceland by specifiying it from \"countriesAndTerritories\" of the data.This is only a small amount of data collected by the European Centre for Disease Prevention and Control. The data will display 10 days of output data on the COVID-19 virus in Iceland."
   ]
  },
  {
   "cell_type": "code",
   "execution_count": 4,
   "id": "7203e5b1",
   "metadata": {
    "scrolled": true
   },
   "outputs": [
    {
     "data": {
      "text/html": [
       "<div>\n",
       "<style scoped>\n",
       "    .dataframe tbody tr th:only-of-type {\n",
       "        vertical-align: middle;\n",
       "    }\n",
       "\n",
       "    .dataframe tbody tr th {\n",
       "        vertical-align: top;\n",
       "    }\n",
       "\n",
       "    .dataframe thead th {\n",
       "        text-align: right;\n",
       "    }\n",
       "</style>\n",
       "<table border=\"1\" class=\"dataframe\">\n",
       "  <thead>\n",
       "    <tr style=\"text-align: right;\">\n",
       "      <th></th>\n",
       "      <th>dateRep</th>\n",
       "      <th>day</th>\n",
       "      <th>month</th>\n",
       "      <th>year</th>\n",
       "      <th>cases</th>\n",
       "      <th>deaths</th>\n",
       "      <th>countriesAndTerritories</th>\n",
       "      <th>geoId</th>\n",
       "      <th>countryterritoryCode</th>\n",
       "      <th>popData2019</th>\n",
       "      <th>continentExp</th>\n",
       "      <th>Cumulative_number_for_14_days_of_COVID-19_cases_per_100000</th>\n",
       "    </tr>\n",
       "  </thead>\n",
       "  <tbody>\n",
       "    <tr>\n",
       "      <th>26395</th>\n",
       "      <td>14/12/2020</td>\n",
       "      <td>14</td>\n",
       "      <td>12</td>\n",
       "      <td>2020</td>\n",
       "      <td>5</td>\n",
       "      <td>0</td>\n",
       "      <td>Iceland</td>\n",
       "      <td>IS</td>\n",
       "      <td>ISL</td>\n",
       "      <td>356991.0</td>\n",
       "      <td>Europe</td>\n",
       "      <td>49.300963</td>\n",
       "    </tr>\n",
       "    <tr>\n",
       "      <th>26396</th>\n",
       "      <td>13/12/2020</td>\n",
       "      <td>13</td>\n",
       "      <td>12</td>\n",
       "      <td>2020</td>\n",
       "      <td>13</td>\n",
       "      <td>0</td>\n",
       "      <td>Iceland</td>\n",
       "      <td>IS</td>\n",
       "      <td>ISL</td>\n",
       "      <td>356991.0</td>\n",
       "      <td>Europe</td>\n",
       "      <td>50.701558</td>\n",
       "    </tr>\n",
       "    <tr>\n",
       "      <th>26397</th>\n",
       "      <td>2020-12-12 00:00:00</td>\n",
       "      <td>12</td>\n",
       "      <td>12</td>\n",
       "      <td>2020</td>\n",
       "      <td>15</td>\n",
       "      <td>0</td>\n",
       "      <td>Iceland</td>\n",
       "      <td>IS</td>\n",
       "      <td>ISL</td>\n",
       "      <td>356991.0</td>\n",
       "      <td>Europe</td>\n",
       "      <td>54.062988</td>\n",
       "    </tr>\n",
       "    <tr>\n",
       "      <th>26398</th>\n",
       "      <td>2020-11-12 00:00:00</td>\n",
       "      <td>11</td>\n",
       "      <td>12</td>\n",
       "      <td>2020</td>\n",
       "      <td>8</td>\n",
       "      <td>0</td>\n",
       "      <td>Iceland</td>\n",
       "      <td>IS</td>\n",
       "      <td>ISL</td>\n",
       "      <td>356991.0</td>\n",
       "      <td>Europe</td>\n",
       "      <td>56.303940</td>\n",
       "    </tr>\n",
       "    <tr>\n",
       "      <th>26399</th>\n",
       "      <td>2020-10-12 00:00:00</td>\n",
       "      <td>10</td>\n",
       "      <td>12</td>\n",
       "      <td>2020</td>\n",
       "      <td>10</td>\n",
       "      <td>0</td>\n",
       "      <td>Iceland</td>\n",
       "      <td>IS</td>\n",
       "      <td>ISL</td>\n",
       "      <td>356991.0</td>\n",
       "      <td>Europe</td>\n",
       "      <td>57.144298</td>\n",
       "    </tr>\n",
       "    <tr>\n",
       "      <th>26400</th>\n",
       "      <td>2020-09-12 00:00:00</td>\n",
       "      <td>9</td>\n",
       "      <td>12</td>\n",
       "      <td>2020</td>\n",
       "      <td>10</td>\n",
       "      <td>1</td>\n",
       "      <td>Iceland</td>\n",
       "      <td>IS</td>\n",
       "      <td>ISL</td>\n",
       "      <td>356991.0</td>\n",
       "      <td>Europe</td>\n",
       "      <td>58.264774</td>\n",
       "    </tr>\n",
       "    <tr>\n",
       "      <th>26401</th>\n",
       "      <td>2020-08-12 00:00:00</td>\n",
       "      <td>8</td>\n",
       "      <td>12</td>\n",
       "      <td>2020</td>\n",
       "      <td>14</td>\n",
       "      <td>0</td>\n",
       "      <td>Iceland</td>\n",
       "      <td>IS</td>\n",
       "      <td>ISL</td>\n",
       "      <td>356991.0</td>\n",
       "      <td>Europe</td>\n",
       "      <td>57.984655</td>\n",
       "    </tr>\n",
       "    <tr>\n",
       "      <th>26402</th>\n",
       "      <td>2020-07-12 00:00:00</td>\n",
       "      <td>7</td>\n",
       "      <td>12</td>\n",
       "      <td>2020</td>\n",
       "      <td>6</td>\n",
       "      <td>0</td>\n",
       "      <td>Iceland</td>\n",
       "      <td>IS</td>\n",
       "      <td>ISL</td>\n",
       "      <td>356991.0</td>\n",
       "      <td>Europe</td>\n",
       "      <td>57.424417</td>\n",
       "    </tr>\n",
       "    <tr>\n",
       "      <th>26403</th>\n",
       "      <td>2020-06-12 00:00:00</td>\n",
       "      <td>6</td>\n",
       "      <td>12</td>\n",
       "      <td>2020</td>\n",
       "      <td>14</td>\n",
       "      <td>0</td>\n",
       "      <td>Iceland</td>\n",
       "      <td>IS</td>\n",
       "      <td>ISL</td>\n",
       "      <td>356991.0</td>\n",
       "      <td>Europe</td>\n",
       "      <td>57.984655</td>\n",
       "    </tr>\n",
       "    <tr>\n",
       "      <th>26404</th>\n",
       "      <td>2020-05-12 00:00:00</td>\n",
       "      <td>5</td>\n",
       "      <td>12</td>\n",
       "      <td>2020</td>\n",
       "      <td>14</td>\n",
       "      <td>0</td>\n",
       "      <td>Iceland</td>\n",
       "      <td>IS</td>\n",
       "      <td>ISL</td>\n",
       "      <td>356991.0</td>\n",
       "      <td>Europe</td>\n",
       "      <td>59.105131</td>\n",
       "    </tr>\n",
       "  </tbody>\n",
       "</table>\n",
       "</div>"
      ],
      "text/plain": [
       "                   dateRep  day  month  year  cases  deaths  \\\n",
       "26395           14/12/2020   14     12  2020      5       0   \n",
       "26396           13/12/2020   13     12  2020     13       0   \n",
       "26397  2020-12-12 00:00:00   12     12  2020     15       0   \n",
       "26398  2020-11-12 00:00:00   11     12  2020      8       0   \n",
       "26399  2020-10-12 00:00:00   10     12  2020     10       0   \n",
       "26400  2020-09-12 00:00:00    9     12  2020     10       1   \n",
       "26401  2020-08-12 00:00:00    8     12  2020     14       0   \n",
       "26402  2020-07-12 00:00:00    7     12  2020      6       0   \n",
       "26403  2020-06-12 00:00:00    6     12  2020     14       0   \n",
       "26404  2020-05-12 00:00:00    5     12  2020     14       0   \n",
       "\n",
       "      countriesAndTerritories geoId countryterritoryCode  popData2019  \\\n",
       "26395                 Iceland    IS                  ISL     356991.0   \n",
       "26396                 Iceland    IS                  ISL     356991.0   \n",
       "26397                 Iceland    IS                  ISL     356991.0   \n",
       "26398                 Iceland    IS                  ISL     356991.0   \n",
       "26399                 Iceland    IS                  ISL     356991.0   \n",
       "26400                 Iceland    IS                  ISL     356991.0   \n",
       "26401                 Iceland    IS                  ISL     356991.0   \n",
       "26402                 Iceland    IS                  ISL     356991.0   \n",
       "26403                 Iceland    IS                  ISL     356991.0   \n",
       "26404                 Iceland    IS                  ISL     356991.0   \n",
       "\n",
       "      continentExp  Cumulative_number_for_14_days_of_COVID-19_cases_per_100000  \n",
       "26395       Europe                                          49.300963           \n",
       "26396       Europe                                          50.701558           \n",
       "26397       Europe                                          54.062988           \n",
       "26398       Europe                                          56.303940           \n",
       "26399       Europe                                          57.144298           \n",
       "26400       Europe                                          58.264774           \n",
       "26401       Europe                                          57.984655           \n",
       "26402       Europe                                          57.424417           \n",
       "26403       Europe                                          57.984655           \n",
       "26404       Europe                                          59.105131           "
      ]
     },
     "execution_count": 4,
     "metadata": {},
     "output_type": "execute_result"
    }
   ],
   "source": [
    "iceland_data = df.loc[ df['countriesAndTerritories']=='Iceland' ]\n",
    "\n",
    "iceland_data[:10]"
   ]
  },
  {
   "cell_type": "markdown",
   "id": "e2c6420e",
   "metadata": {},
   "source": [
    "## Total Amount of COVID-19 Cases in Iceland as of December 2020"
   ]
  },
  {
   "cell_type": "markdown",
   "id": "c0e7254c",
   "metadata": {},
   "source": [
    "This code shows the total amount of COVID-19 cases in Iceland as of December 2020."
   ]
  },
  {
   "cell_type": "code",
   "execution_count": 5,
   "id": "9fe37653",
   "metadata": {},
   "outputs": [
    {
     "data": {
      "text/plain": [
       "5557"
      ]
     },
     "execution_count": 5,
     "metadata": {},
     "output_type": "execute_result"
    }
   ],
   "source": [
    "iceland_data.sum()['cases']"
   ]
  },
  {
   "cell_type": "markdown",
   "id": "d6415cd0",
   "metadata": {},
   "source": [
    "The output shows that there have been 5557 COVID-19 cases in Iceland since December 2020. This data allows for future judgment of total amount cases regarding total population."
   ]
  },
  {
   "cell_type": "markdown",
   "id": "3dfe34ed",
   "metadata": {},
   "source": [
    "## The Trend of COVID-19 cases in Iceland as of 2020"
   ]
  },
  {
   "cell_type": "markdown",
   "id": "13e8b16d",
   "metadata": {},
   "source": [
    "This code shows the trend of COVID-19 cases in Iceland as of December 2020.This was calculated by grouping the sum of the 'months' of the 'cases' and assigning it to the variable 'sum_cases_per_day.' A line chart is used to show the importance of cases over time and which months expereienced high numbers."
   ]
  },
  {
   "cell_type": "code",
   "execution_count": 10,
   "id": "d2452638",
   "metadata": {},
   "outputs": [],
   "source": [
    "sum_cases_per_day=iceland_data.groupby('month').sum()['cases']\n"
   ]
  },
  {
   "cell_type": "code",
   "execution_count": 11,
   "id": "0d9152eb",
   "metadata": {},
   "outputs": [
    {
     "data": {
      "text/plain": [
       "<AxesSubplot:xlabel='month'>"
      ]
     },
     "execution_count": 11,
     "metadata": {},
     "output_type": "execute_result"
    },
    {
     "data": {
      "image/png": "[encoded data removed]",
      "text/plain": [
       "<Figure size 432x288 with 1 Axes>"
      ]
     },
     "metadata": {
      "needs_background": "light"
     },
     "output_type": "display_data"
    }
   ],
   "source": [
    "sum_cases_per_day.plot()"
   ]
  },
  {
   "cell_type": "markdown",
   "id": "2dc833b1",
   "metadata": {},
   "source": [
    "The output shows the trend of COVID-19 cases in Iceland as of December of 2020. The line graph shows two spikes; one spike is early in the year from Februray to March and the second spike shows a major increase in cases in Iceland from September to Early November. The highest number of cases in Iceland occured in October, reaching more than 2,000 cases per month."
   ]
  },
  {
   "cell_type": "markdown",
   "id": "bbd582a1",
   "metadata": {},
   "source": [
    "## The Total Amount of Deaths in Iceland as of December 2020"
   ]
  },
  {
   "cell_type": "markdown",
   "id": "7789ee89",
   "metadata": {},
   "source": [
    "This code shows the total amount of deaths from COVID-19 as of December 2020."
   ]
  },
  {
   "cell_type": "code",
   "execution_count": 12,
   "id": "3450f911",
   "metadata": {},
   "outputs": [
    {
     "data": {
      "text/plain": [
       "28"
      ]
     },
     "execution_count": 12,
     "metadata": {},
     "output_type": "execute_result"
    }
   ],
   "source": [
    "iceland_data.sum()['deaths']"
   ]
  },
  {
   "cell_type": "markdown",
   "id": "a8f27694",
   "metadata": {},
   "source": [
    "The output shows that there has been 28 deaths from COVID-19 in Iceland as of December 2020. This data allows for futrue judgment of total amount of deaths regarding total amount of cases. "
   ]
  },
  {
   "cell_type": "markdown",
   "id": "10640545",
   "metadata": {},
   "source": [
    "## The Trend of COVID-19 Deaths in Iceland as of December 2020."
   ]
  },
  {
   "cell_type": "markdown",
   "id": "8236739f",
   "metadata": {},
   "source": [
    "This code shows the trend of COVID-19 deaths in Iceland as of December 2020. This was calculated by grouping the sum of the 'months' of the 'deaths' and assigning it to the variable 'sum_deaths_per_date.' A line chart is used to show the importance of deaths over time and which months experienced higher numbers."
   ]
  },
  {
   "cell_type": "code",
   "execution_count": 28,
   "id": "f2c1322a",
   "metadata": {},
   "outputs": [
    {
     "data": {
      "text/plain": [
       "<AxesSubplot:xlabel='month'>"
      ]
     },
     "execution_count": 28,
     "metadata": {},
     "output_type": "execute_result"
    },
    {
     "data": {
      "image/png": "[encoded data removed]",
      "text/plain": [
       "<Figure size 432x288 with 1 Axes>"
      ]
     },
     "metadata": {
      "needs_background": "light"
     },
     "output_type": "display_data"
    }
   ],
   "source": [
    "sum_death_by_date = df.groupby('month').sum()['deaths']\n",
    "\n",
    "sum_death_by_date.plot()"
   ]
  },
  {
   "cell_type": "markdown",
   "id": "64b4853b",
   "metadata": {},
   "source": [
    "The output shows the trend of COVID-19 deaths in Iceland as of December 2020. The line graph shows an overall increase in deaths, with the highest spike between October and November."
   ]
  },
  {
   "cell_type": "markdown",
   "id": "faf6ad52",
   "metadata": {},
   "source": [
    "## The Number of Deaths related to the Number of Cases in Iceland Over Time."
   ]
  },
  {
   "cell_type": "markdown",
   "id": "791224d3",
   "metadata": {},
   "source": [
    "This code shows the trend of COVID-19 deaths in relation to the trend of cases in Iceland as of December 2020. This was calculated by using the Iceland COVID-19 data and assigning variables to the number of deaths, number of cases, and time in months. X= 'cases', y='deaths', c='month'. Then a scatterplot was created to highlight the number of deaths similar to number of cases."
   ]
  },
  {
   "cell_type": "code",
   "execution_count": 31,
   "id": "ac8f36bd",
   "metadata": {},
   "outputs": [
    {
     "data": {
      "text/plain": [
       "<AxesSubplot:xlabel='cases', ylabel='deaths'>"
      ]
     },
     "execution_count": 31,
     "metadata": {},
     "output_type": "execute_result"
    },
    {
     "data": {
      "image/png": "[encoded data removed]",
      "text/plain": [
       "<Figure size 432x288 with 2 Axes>"
      ]
     },
     "metadata": {
      "needs_background": "light"
     },
     "output_type": "display_data"
    }
   ],
   "source": [
    "iceland_data.plot.scatter(x='cases',y='deaths',c='month')"
   ]
  },
  {
   "cell_type": "markdown",
   "id": "37599530",
   "metadata": {},
   "source": [
    "The scatter plot diagram shows the high number of deaths similar to the high number of cases in October and November of 2020. This diagram also shows the relatively low overall amount of cases and deaths that Iceland experienced in 2020."
   ]
  },
  {
   "cell_type": "markdown",
   "id": "aab6c805",
   "metadata": {},
   "source": [
    "## Conclusion, Limitarions, and Further Research"
   ]
  },
  {
   "cell_type": "markdown",
   "id": "f9eb9406",
   "metadata": {},
   "source": [
    "In conclusion, the European Centre for Disease Prevention and Control(ECDC) provided data of countries and territories globally and the effects of the COVID-19 pandemic on the population.Focusing on Iceland, this analysis covers the total number of COVID-19 cases and deaths, the trend of the cases and deaths over time, and the number of deaths related to the nummber of cases in Icealnd as of December 2020.\n",
    "\n",
    "Limitations to this research is the data only covered 2020. New strands of COVID-19 have been discovered, as well as vaccines. These factors could drastically affect the total number of cases and deaths in Iceland over time.\n",
    "\n",
    "Suggestions for furthur research would be to include data from 2021. I believe this could add to analysis and see how COVID-19 cases increased or increase. I also believe adding data of the percentage of vaccinated and the age groups of individuals who were diagnosed and died as a result of COVID-19.These furthur research suggestions would allow for more in-depth analysis of the effect that COVID-19 has had in Iceland."
   ]
  },
  {
   "cell_type": "code",
   "execution_count": null,
   "id": "03236019",
   "metadata": {},
   "outputs": [],
   "source": []
  }
 ],
 "metadata": {
  "kernelspec": {
   "display_name": "conda_python3",
   "language": "python",
   "name": "conda_python3"
  },
  "language_info": {
   "codemirror_mode": {
    "name": "ipython",
    "version": 3
   },
   "file_extension": ".py",
   "mimetype": "text/x-python",
   "name": "python",
   "nbconvert_exporter": "python",
   "pygments_lexer": "ipython3",
   "version": "3.6.13"
  }
 },
 "nbformat": 4,
 "nbformat_minor": 5
}
